{
 "cells": [
  {
   "cell_type": "code",
   "execution_count": 1,
   "id": "83f673f8-4d58-4bae-b528-f3365c464e91",
   "metadata": {},
   "outputs": [],
   "source": [
    "import numpy as np\n"
   ]
  },
  {
   "cell_type": "code",
   "execution_count": 2,
   "id": "39f8ce95-3652-49ae-a334-37788965a451",
   "metadata": {},
   "outputs": [
    {
     "name": "stdout",
     "output_type": "stream",
     "text": [
      "Broadcasted A + b:\n",
      " [[2 2 4]\n",
      " [5 5 7]]\n"
     ]
    }
   ],
   "source": [
    "A = np.array([[1, 2, 3], [4, 5, 6]])\n",
    "b = np.array([1, 0, 1])\n",
    "print(\"Broadcasted A + b:\\n\", A + b)\n"
   ]
  },
  {
   "cell_type": "code",
   "execution_count": 3,
   "id": "01b2856b-8984-40b3-9131-3265b5b2b36b",
   "metadata": {},
   "outputs": [],
   "source": [
    "# Vectorization\n",
    "vec = np.arange(1000000)\n",
    "result = vec * 2  # Fast computation without loops"
   ]
  },
  {
   "cell_type": "code",
   "execution_count": 4,
   "id": "2fac4233-abd0-4a62-a70e-bc46f0abe4a5",
   "metadata": {},
   "outputs": [
    {
     "name": "stdout",
     "output_type": "stream",
     "text": [
      "Sum along axis 0: [ 9 12]\n",
      "Mean along axis 1: [1.5 3.5 5.5]\n"
     ]
    }
   ],
   "source": [
    "data = np.array([[1, 2], [3, 4], [5, 6]])\n",
    "print(\"Sum along axis 0:\", data.sum(axis=0))\n",
    "print(\"Mean along axis 1:\", data.mean(axis=1))"
   ]
  },
  {
   "cell_type": "code",
   "execution_count": 5,
   "id": "ddd9f5ec-c940-46bf-95c3-d1ffa163014f",
   "metadata": {},
   "outputs": [
    {
     "name": "stdout",
     "output_type": "stream",
     "text": [
      "Conditionally replaced array: [1 0 3 0 5]\n"
     ]
    }
   ],
   "source": [
    "# Conditional logic\n",
    "arr = np.array([1, 2, 3, 4, 5])\n",
    "new_arr = np.where(arr % 2 == 0, 0, arr)\n",
    "print(\"Conditionally replaced array:\", new_arr)\n"
   ]
  },
  {
   "cell_type": "code",
   "execution_count": 6,
   "id": "924dffeb-52fa-427a-ab8e-cc28ddc30855",
   "metadata": {},
   "outputs": [
    {
     "name": "stdout",
     "output_type": "stream",
     "text": [
      "Einsum result: 11\n"
     ]
    }
   ],
   "source": [
    "# Einstein Summation\n",
    "a = np.array([1, 2])\n",
    "b = np.array([3, 4])\n",
    "print(\"Einsum result:\", np.einsum('i,i->', a, b))"
   ]
  },
  {
   "cell_type": "code",
   "execution_count": 7,
   "id": "cba603e3-a850-4951-aaa4-61d75f3c57e4",
   "metadata": {},
   "outputs": [
    {
     "name": "stdout",
     "output_type": "stream",
     "text": [
      "Loaded: [1 2 3 4 5]\n"
     ]
    }
   ],
   "source": [
    "# Save & load arrays\n",
    "np.save('my_array.npy', arr)\n",
    "loaded = np.load('my_array.npy')\n",
    "print(\"Loaded:\", loaded)"
   ]
  },
  {
   "cell_type": "code",
   "execution_count": null,
   "id": "b9539c5e-1a2a-4e1b-9cb5-d2a8979c3d07",
   "metadata": {},
   "outputs": [],
   "source": []
  }
 ],
 "metadata": {
  "kernelspec": {
   "display_name": "Python [conda env:base] *",
   "language": "python",
   "name": "conda-base-py"
  },
  "language_info": {
   "codemirror_mode": {
    "name": "ipython",
    "version": 3
   },
   "file_extension": ".py",
   "mimetype": "text/x-python",
   "name": "python",
   "nbconvert_exporter": "python",
   "pygments_lexer": "ipython3",
   "version": "3.12.7"
  }
 },
 "nbformat": 4,
 "nbformat_minor": 5
}
