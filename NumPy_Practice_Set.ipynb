{
 "cells": [
  {
   "cell_type": "code",
   "execution_count": 1,
   "id": "8f65332c-732d-4594-a5ce-1c9f1a8f9d44",
   "metadata": {},
   "outputs": [],
   "source": [
    "import numpy as np"
   ]
  },
  {
   "cell_type": "code",
   "execution_count": 2,
   "id": "03181dd6-0c81-4e3f-9ab8-837de30a953a",
   "metadata": {},
   "outputs": [
    {
     "name": "stdout",
     "output_type": "stream",
     "text": [
      "3x3 matrix:\n",
      " [[1 2 3]\n",
      " [4 5 6]\n",
      " [7 8 9]]\n"
     ]
    }
   ],
   "source": [
    "# Q1: Create a 3x3 matrix from 1-9\n",
    "mat = np.arange(1, 10).reshape(3, 3)\n",
    "print(\"3x3 matrix:\\n\", mat)"
   ]
  },
  {
   "cell_type": "code",
   "execution_count": 3,
   "id": "a0bae7b6-2512-4171-91b5-0d17fb6dcb51",
   "metadata": {},
   "outputs": [
    {
     "name": "stdout",
     "output_type": "stream",
     "text": [
      "Mean: 5.0\n",
      "Std Dev: 2.581988897471611\n"
     ]
    }
   ],
   "source": [
    "# Q2: Calculate mean and std\n",
    "print(\"Mean:\", mat.mean())\n",
    "print(\"Std Dev:\", mat.std())"
   ]
  },
  {
   "cell_type": "code",
   "execution_count": 4,
   "id": "77460715-0413-46ae-a9b1-1636eff7e3f1",
   "metadata": {},
   "outputs": [
    {
     "name": "stdout",
     "output_type": "stream",
     "text": [
      "Flattened * 3: [ 3  6  9 12 15 18 21 24 27]\n"
     ]
    }
   ],
   "source": [
    "# Q3: Flatten and multiply\n",
    "flat = mat.flatten() * 3\n",
    "print(\"Flattened * 3:\", flat)"
   ]
  },
  {
   "cell_type": "code",
   "execution_count": 5,
   "id": "78ce1df6-93ed-4854-bb3a-3180331ef46d",
   "metadata": {},
   "outputs": [
    {
     "name": "stdout",
     "output_type": "stream",
     "text": [
      "95th Percentile: 1.571999185442993\n"
     ]
    }
   ],
   "source": [
    "# Q4: Random numbers & percentile\n",
    "rand_nums = np.random.randn(1000)\n",
    "print(\"95th Percentile:\", np.percentile(rand_nums, 95))"
   ]
  },
  {
   "cell_type": "code",
   "execution_count": 6,
   "id": "a640b162-3ff2-42b0-9ba7-e8743fc5e31b",
   "metadata": {},
   "outputs": [
    {
     "name": "stdout",
     "output_type": "stream",
     "text": [
      "Broadcasted result:\n",
      " [[2. 3. 4.]\n",
      " [2. 3. 4.]\n",
      " [2. 3. 4.]]\n"
     ]
    }
   ],
   "source": [
    "# Q5: Broadcasting example\n",
    "base = np.ones((3, 3))\n",
    "row = np.array([1, 2, 3])\n",
    "print(\"Broadcasted result:\\n\", base + row)"
   ]
  },
  {
   "cell_type": "code",
   "execution_count": null,
   "id": "9f72dfd8-85a1-42e8-b23b-eae82727b3da",
   "metadata": {},
   "outputs": [],
   "source": []
  }
 ],
 "metadata": {
  "kernelspec": {
   "display_name": "Python [conda env:base] *",
   "language": "python",
   "name": "conda-base-py"
  },
  "language_info": {
   "codemirror_mode": {
    "name": "ipython",
    "version": 3
   },
   "file_extension": ".py",
   "mimetype": "text/x-python",
   "name": "python",
   "nbconvert_exporter": "python",
   "pygments_lexer": "ipython3",
   "version": "3.12.7"
  }
 },
 "nbformat": 4,
 "nbformat_minor": 5
}
