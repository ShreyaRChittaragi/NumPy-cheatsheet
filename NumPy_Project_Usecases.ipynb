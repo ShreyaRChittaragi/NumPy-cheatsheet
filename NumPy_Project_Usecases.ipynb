{
 "cells": [
  {
   "cell_type": "code",
   "execution_count": 1,
   "id": "9eba8957-bb8e-4b3c-9b96-b6f2ab6a94c8",
   "metadata": {},
   "outputs": [],
   "source": [
    "# 🛠️ Real-World Use Cases with NumPy"
   ]
  },
  {
   "cell_type": "code",
   "execution_count": 2,
   "id": "5a6e4a7f-cbfc-4b23-9804-37bf0830df17",
   "metadata": {},
   "outputs": [
    {
     "name": "stdout",
     "output_type": "stream",
     "text": [
      "Filtered image:\n",
      " [[ 2.16002402  0.51393858  0.28855921  1.47863514  3.6700625 ]\n",
      " [ 1.73009635  0.1153501  -0.54856619  0.1004366   0.94083988]\n",
      " [-0.37716758  1.77958856  0.09792178  0.97747751 -0.18165605]\n",
      " [ 2.55685623  1.43337752 -1.78732547  2.06838922  0.36605849]\n",
      " [-0.66092668  3.90785283 -1.48428525  1.09051161  3.02657516]]\n"
     ]
    }
   ],
   "source": [
    "# 1. Image Filter (mocked as 2D data)\n",
    "import numpy as np\n",
    "from matplotlib import pyplot as plt\n",
    "\n",
    "image = np.random.rand(5, 5)\n",
    "kernel = np.array([[0, -1, 0], [-1, 5,-1], [0, -1, 0]])\n",
    "\n",
    "def apply_filter(image, kernel):\n",
    "    from scipy.signal import convolve2d\n",
    "    return convolve2d(image, kernel, mode='same')\n",
    "\n",
    "filtered = apply_filter(image, kernel)\n",
    "print(\"Filtered image:\\n\", filtered)"
   ]
  },
  {
   "cell_type": "code",
   "execution_count": 3,
   "id": "b52b36a4-5e81-4be6-9c62-7f728a60ee50",
   "metadata": {},
   "outputs": [
    {
     "name": "stdout",
     "output_type": "stream",
     "text": [
      "Estimated Pi: 3.1552\n"
     ]
    }
   ],
   "source": [
    "# 2. Monte Carlo Simulation (Estimate Pi)\n",
    "np.random.seed(0)\n",
    "inside_circle = 0\n",
    "total = 10000\n",
    "\n",
    "for _ in range(total):\n",
    "    x, y = np.random.rand(2)\n",
    "    if x**2 + y**2 <= 1:\n",
    "        inside_circle += 1\n",
    "\n",
    "pi_estimate = (inside_circle / total) * 4\n",
    "print(\"Estimated Pi:\", pi_estimate)\n"
   ]
  },
  {
   "cell_type": "code",
   "execution_count": 4,
   "id": "928f3724-5f39-45f8-b218-bd7535196938",
   "metadata": {},
   "outputs": [
    {
     "name": "stdout",
     "output_type": "stream",
     "text": [
      "Student Averages: [85.         88.33333333 73.33333333]\n"
     ]
    }
   ],
   "source": [
    "# 3. Matrix Gradebook App\n",
    "grades = np.array([[87, 90, 78], [85, 88, 92], [70, 60, 90]])\n",
    "averages = grades.mean(axis=1)\n",
    "print(\"Student Averages:\", averages)"
   ]
  },
  {
   "cell_type": "code",
   "execution_count": null,
   "id": "ace999d2-cf7e-44b6-9231-cb00a6d2d362",
   "metadata": {},
   "outputs": [],
   "source": []
  }
 ],
 "metadata": {
  "kernelspec": {
   "display_name": "Python [conda env:base] *",
   "language": "python",
   "name": "conda-base-py"
  },
  "language_info": {
   "codemirror_mode": {
    "name": "ipython",
    "version": 3
   },
   "file_extension": ".py",
   "mimetype": "text/x-python",
   "name": "python",
   "nbconvert_exporter": "python",
   "pygments_lexer": "ipython3",
   "version": "3.12.7"
  }
 },
 "nbformat": 4,
 "nbformat_minor": 5
}
