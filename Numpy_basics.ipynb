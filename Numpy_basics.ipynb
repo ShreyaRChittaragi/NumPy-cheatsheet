{
 "cells": [
  {
   "cell_type": "code",
   "execution_count": 3,
   "id": "b2afc121-8223-4423-a365-8d42d238ba30",
   "metadata": {},
   "outputs": [],
   "source": [
    "import numpy as np"
   ]
  },
  {
   "cell_type": "code",
   "execution_count": 2,
   "id": "8572edc3-5685-4bca-8f4c-6a201054d2e3",
   "metadata": {},
   "outputs": [
    {
     "name": "stdout",
     "output_type": "stream",
     "text": [
      "Array a: [1 2 3]\n",
      "Array b:\n",
      " [[1 2]\n",
      " [3 4]]\n"
     ]
    }
   ],
   "source": [
    "a = np.array([1, 2, 3])\n",
    "b = np.array([[1, 2], [3, 4]])\n",
    "print(\"Array a:\", a)\n",
    "print(\"Array b:\\n\", b)"
   ]
  },
  {
   "cell_type": "code",
   "execution_count": 4,
   "id": "4163cd3c-d4df-4aa8-a416-7ac8a20fa3f1",
   "metadata": {},
   "outputs": [
    {
     "name": "stdout",
     "output_type": "stream",
     "text": [
      "Shape of b: (2, 2)\n",
      "Data type: int32\n"
     ]
    }
   ],
   "source": [
    "print(\"Shape of b:\", b.shape)\n",
    "print(\"Data type:\", b.dtype)"
   ]
  },
  {
   "cell_type": "code",
   "execution_count": 5,
   "id": "4cca49b3-1890-4e31-9012-aa34ea755609",
   "metadata": {},
   "outputs": [],
   "source": [
    "zeros = np.zeros((2, 3))"
   ]
  },
  {
   "cell_type": "code",
   "execution_count": 7,
   "id": "7507b636-6bd5-49d5-957f-5921a27107f8",
   "metadata": {},
   "outputs": [],
   "source": [
    "ones = np.ones((3,))"
   ]
  },
  {
   "cell_type": "code",
   "execution_count": 8,
   "id": "f2168792-87e6-4510-82ba-4fa4714a313c",
   "metadata": {},
   "outputs": [],
   "source": [
    "identity = np.eye(3)"
   ]
  },
  {
   "cell_type": "code",
   "execution_count": 10,
   "id": "9060d92a-54b4-4e3b-a02d-f2dea60f0eda",
   "metadata": {},
   "outputs": [],
   "source": [
    "full = np.full((2, 2), 7)"
   ]
  },
  {
   "cell_type": "code",
   "execution_count": 9,
   "id": "069fd779-6d20-4212-8b82-fd4100cb0dc6",
   "metadata": {},
   "outputs": [],
   "source": [
    "arange = np.arange(0, 10, 2)"
   ]
  },
  {
   "cell_type": "code",
   "execution_count": 11,
   "id": "4cbb9de1-3ba3-4f56-9e7b-8515d91db7f6",
   "metadata": {},
   "outputs": [],
   "source": [
    "linspace = np.linspace(0, 1, 5)"
   ]
  },
  {
   "cell_type": "code",
   "execution_count": 12,
   "id": "ac974b37-c650-4a07-b0c5-3b2db01631a7",
   "metadata": {},
   "outputs": [
    {
     "name": "stdout",
     "output_type": "stream",
     "text": [
      "[20 30 40]\n",
      "50\n",
      "[30 40 50]\n"
     ]
    }
   ],
   "source": [
    "arr = np.array([10, 20, 30, 40, 50])\n",
    "print(arr[1:4])           # Slicing\n",
    "print(arr[-1])            # Last element\n",
    "print(arr[arr > 20])      # Boolean indexing"
   ]
  },
  {
   "cell_type": "code",
   "execution_count": 13,
   "id": "dcd80f74-c8dc-41dd-a0dc-f0979751c5ec",
   "metadata": {},
   "outputs": [
    {
     "name": "stdout",
     "output_type": "stream",
     "text": [
      "Reshaped:\n",
      " [[0 1 2]\n",
      " [3 4 5]\n",
      " [6 7 8]]\n"
     ]
    }
   ],
   "source": [
    "reshaped = np.arange(9).reshape(3, 3)\n",
    "print(\"Reshaped:\\n\", reshaped)"
   ]
  },
  {
   "cell_type": "code",
   "execution_count": 14,
   "id": "666192f5-c97e-4020-994f-dae136507a96",
   "metadata": {},
   "outputs": [
    {
     "name": "stdout",
     "output_type": "stream",
     "text": [
      "Add: [5 7 9]\n",
      "Multiply: [ 4 10 18]\n",
      "Dot: 32\n"
     ]
    }
   ],
   "source": [
    "x = np.array([1, 2, 3])\n",
    "y = np.array([4, 5, 6])\n",
    "print(\"Add:\", x + y)\n",
    "print(\"Multiply:\", x * y)\n",
    "print(\"Dot:\", np.dot(x, y))"
   ]
  },
  {
   "cell_type": "code",
   "execution_count": null,
   "id": "e58e79f0-b6b6-4914-95a9-0b21fee09ac7",
   "metadata": {},
   "outputs": [],
   "source": []
  }
 ],
 "metadata": {
  "kernelspec": {
   "display_name": "Python [conda env:base] *",
   "language": "python",
   "name": "conda-base-py"
  },
  "language_info": {
   "codemirror_mode": {
    "name": "ipython",
    "version": 3
   },
   "file_extension": ".py",
   "mimetype": "text/x-python",
   "name": "python",
   "nbconvert_exporter": "python",
   "pygments_lexer": "ipython3",
   "version": "3.12.7"
  }
 },
 "nbformat": 4,
 "nbformat_minor": 5
}
